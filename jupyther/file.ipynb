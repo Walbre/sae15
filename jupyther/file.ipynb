{
 "cells": [
  {
   "attachments": {},
   "cell_type": "markdown",
   "metadata": {},
   "source": [
    "# Sae 15\n",
    "\n"
   ]
  },
  {
   "attachments": {},
   "cell_type": "markdown",
   "metadata": {},
   "source": [
    "## Métrique 2.1\n",
    "\n"
   ]
  },
  {
   "attachments": {},
   "cell_type": "markdown",
   "metadata": {},
   "source": [
    "## Métrique 2.2 : la mémoire\n",
    "\n",
    "\n",
    "### Récuperation des données \n",
    "\n",
    "Le but du travail sur cette métrique est de récuperer différentes données sur la mémoire a différents instants sur un système Linux. Pour cela, il va falloir utiliser le fichier `/proc/meminfo` qui contient beaucoup d'infromations. Nous allons ici nous concentrer sur les données `MemTotal`, `MemFree`, `MemAvilable`, `SwapCached`, `SwapTotal` et `SwapFree`.\n",
    "\n",
    "En plus de récuperer ces données, il va falloir faire un 2<sup>ème</sup> script, permettant de les faire varier pour les rendre intéressantes.\n",
    "\n",
    "Tout d'abord, pour pouvoir créer un fichier csv clair, j'ai décidé de faire un script appelé `resetScript.sh` qui permet de vider le fichier `data.csv` et de mettre des noms de colonnes.\n",
    "\n",
    "<br>\n",
    "\n",
    "```bash\n",
    "#!/bin/bash\n",
    "# created by Brewal Guyon\n",
    "# last modification 17-11-22\n",
    "\n",
    "line=\"time,MemTotal,MemFree,MemAvilable,SwapCached,SwapTotal,SwapFree\"\n",
    "echo $line > data.csv\n",
    "\n",
    "exit 0\n",
    "```\n",
    "\n",
    "Maintentant que le fichier peut être recréé de façon propre, passons a la capture de données.\n",
    "\n",
    "<br>\n",
    "\n",
    "```bash\n",
    "\n",
    "#!/bin/bash\n",
    "# created by Brewal Guyon\n",
    "# last modification 17-11-22\n",
    "\n",
    "location='/proc/meminfo'\n",
    "\n",
    "# on récupere les données qui nous interesse\n",
    "res=`cat $location | grep -E \"^(Mem|Swap)\"`\n",
    "\n",
    "# on ajoute la date en début de ligne\n",
    "echo -n `date +'%s'`, >> /root/Documents/sae15/data.csv\n",
    "\n",
    "IFS=$'\\n'\n",
    "\n",
    "for d in $res:\n",
    "do\n",
    "    # on ajoute les lignes 1 a 1 avec des \",\" entre chaques\n",
    "   line=$line`echo $d | tr -s ' ' | tr -d ':' |  cut -d ' ' -f 2-3`,\n",
    "done\n",
    "\n",
    "# on ajoute les lignes au fichier csv en enlevant la dernière \",\"\n",
    "echo -n ${line::-1} >> /root/Documents/sae15/data.csv\n",
    "\n",
    "# on saute une ligne pour être prêt a écrire la prochaine donnée\n",
    "echo \"\" >> /root/Documents/sae15/data.csv\n",
    "\n",
    "exit 0\n",
    "```\n",
    "\n",
    "Une fois ce fichier fait, il ne reste plus qu'à faire le script pour varier les données.\n",
    "\n",
    "<br>\n",
    "\n",
    "```bash\n",
    "#!/bin/bash\n",
    "# created by Brewal Guyon\n",
    "# last modification 24-11-22\n",
    "\n",
    "\n",
    "\n",
    "a=\"hello\"\n",
    "\n",
    "# augmentation de la taille de la variable\n",
    "for i in {0..8}\n",
    "do\n",
    "a=$a$a$a$a$a\n",
    "done\n",
    "\n",
    "echo taille de la variable : $(echo $a | wc -c)\n",
    "# cree une variable assez longue, pour faire varier la memoire\n",
    "\n",
    "for i in {0..10}\n",
    "do\n",
    "echo phase $i/10 du script\n",
    "\n",
    "echo mise en pause du script pendant 60s \n",
    "sleep 60\n",
    "\n",
    "echo changement de la taille de la variable\n",
    "a=$a$a\n",
    "echo taille de la variable : $(echo $a | wc -c)\n",
    "done\n",
    "\n",
    "exit 0\n",
    "```\n",
    "\n",
    "Maintentant que tous les script ont été, il ne reste plus qu'à automatiser la tache de lancement du script de capture de données toutes les minutes pour avoir un fichier csv complet. Pour cela, nous allons utiliser cron avec la ligne suivant : \n",
    "\n",
    "```\n",
    "*/1 * * * * bash /root/Documents/sae15/script.sh > /root/Documents/erreurs\n",
    "```\n",
    "\n",
    "Cette capture a donc permi, avec quelques lancement du script de varaitions de données de donner ce fichier csv (seulement le début).\n",
    "\n",
    "<br>\n",
    "\n",
    "\n",
    "```csv\n",
    "time,MemTotal,MemFree,MemAvilable,SwapCached,SwapTotal,SwapFree\n",
    "1669311481,2037564 kB,359272 kB,1392400 kB,0 kB,998396 kB,998396 kB\n",
    "1669311541,2037564 kB,346364 kB,1380152 kB,0 kB,998396 kB,998396 kB\n",
    "1669311601,2037564 kB,345064 kB,1378880 kB,0 kB,998396 kB,998396 kB\n",
    "1669311661,2037564 kB,344756 kB,1378588 kB,0 kB,998396 kB,998396 kB\n",
    "1669311721,2037564 kB,336212 kB,1379652 kB,0 kB,998396 kB,998396 kB\n",
    "1669311781,2037564 kB,337700 kB,1381192 kB,0 kB,998396 kB,998396 kB\n",
    "1669311841,2037564 kB,338464 kB,1381980 kB,0 kB,998396 kB,998396 kB\n",
    "1669311901,2037564 kB,328656 kB,1372184 kB,0 kB,998396 kB,998396 kB\n",
    "1669311961,2037564 kB,327840 kB,1371396 kB,0 kB,998396 kB,998396 kB\n",
    "1669312021,2037564 kB,326372 kB,1369992 kB,0 kB,998396 kB,998396 kB\n",
    "1669312081,2037564 kB,323392 kB,1367020 kB,0 kB,998396 kB,998396 kB\n",
    "```\n",
    "\n",
    "### Traitement des donées\n",
    "\n",
    "Pour traiter les données, j'ai décidé de créer une classe python avec plusieurs fonctions."
   ]
  },
  {
   "cell_type": "code",
   "execution_count": 1,
   "metadata": {},
   "outputs": [],
   "source": [
    "import csv\n",
    "from typing import List, Tuple"
   ]
  },
  {
   "cell_type": "code",
   "execution_count": 2,
   "metadata": {},
   "outputs": [],
   "source": [
    "class data_handler:\n",
    "    \"\"\"! Classe qui va servir a interagir avec le fichier csv\n",
    "    \"\"\"\n",
    "\n",
    "    def __init__(self, filename:str, separateur=',') -> None:\n",
    "        \"\"\"! Creation de la classe qui va servir aux interactions avec le fichier csv\n",
    "        \n",
    "        @param filename  nom du fichier csv a charger\n",
    "        @param separateur  separateur des colonnes du fichier csv\n",
    "        \"\"\"\n",
    "        self.separateur : str = separateur\n",
    "        \n",
    "        self.filename : str = filename\n",
    "        \n",
    "        self.lines : List[str] = []\n",
    "        \n",
    "        self.raw : str = \"\"\n",
    "        \n",
    "        with open(filename, newline='') as csvfile :\n",
    "            datareader : csv._reader = csv.reader(csvfile, delimiter=self.separateur, quotechar='|')\n",
    "            \n",
    "            for line in datareader:\n",
    "                # ajouter les lignes a la liste\n",
    "                self.lines.append(line)\n",
    "                \n",
    "                # ajouter les lignes sous la forme de string dans le string\n",
    "                self.raw += \",\".join(line) + \"\\n\""
   ]
  },
  {
   "cell_type": "code",
   "execution_count": 3,
   "metadata": {},
   "outputs": [
    {
     "name": "stdout",
     "output_type": "stream",
     "text": [
      "time,MemTotal,MemFree,MemAvilable,SwapCached,SwapTotal,SwapFree\n",
      "1669311481,2037564 kB,359272 kB,1392400 kB,0 kB,998396 kB,998396 kB\n",
      "1669311541,2037564 kB,346364 kB,1380152 kB,0 kB,998396 kB,998396 kB\n",
      "1669311601,2037564 kB,345064 kB,1378880 kB,0 kB,998396 kB,998396 kB\n",
      "1669311661,2037564 kB,344756 kB,1378588 kB,0 kB,998396 kB,998396 kB\n",
      "1669311721,2037564 kB,336212 kB,1379652 kB,0 kB,998396 kB,998396 kB\n",
      "1669311781,2037564 kB,337700 kB,1381192 kB,0 kB,998396 kB,998396 kB\n",
      "1669311841,2037564 kB,338464 kB,1381980 kB,0 kB,998396 kB,998396 kB\n",
      "1669311901,2037564 kB,328656 kB,1372184 kB,0 kB,998396 kB,998396 kB\n",
      "1669311961,2037564 kB,327840 kB,1371396 kB,0 kB,998396 kB,998396 kB\n",
      "1669312021,2037564 kB,326372 kB,1369992 kB,0 kB,998396 kB,998396 kB\n",
      "1669312081,2037564 kB,323392 kB,1367020 kB,0 kB,998396 kB,998396 kB\n",
      "1669312141,2037564 kB,317836 kB,1361504 kB,0 kB,998396 kB,998396 kB\n",
      "1669312201,2037564 kB,328360 kB,1372816 kB,0 kB,998396 kB,998396 kB\n",
      "1669312261,2037564 kB,327672 kB,1372184 kB,0 kB,998396 kB,998396 kB\n",
      "1669312321,2037564 kB,327372 kB,1371912 kB,0 kB,998396 kB,998396 kB\n",
      "1669312381,2037564 kB,326592 kB,1371140 kB,0 kB,998396 kB,998396 kB\n",
      "1669312441,2037564 kB,325316 kB,1369872 kB,0 kB,998396 kB,998396 kB\n",
      "1669312501,2037564 kB,323332 kB,1367896 kB,0 kB,998396 kB,998396 kB\n",
      "1669312561,2037564 kB,318732 kB,1363312 kB,0 kB,998396 kB,998396 kB\n",
      "1669312621,2037564 kB,310052 kB,1354688 kB,0 kB,998396 kB,998396 kB\n",
      "1669312681,2037564 kB,293416 kB,1338068 kB,0 kB,998396 kB,998396 kB\n",
      "1669312741,2037564 kB,258184 kB,1302844 kB,0 kB,998396 kB,998396 kB\n",
      "1669312801,2037564 kB,287224 kB,1331892 kB,0 kB,998396 kB,998396 kB\n",
      "1669312861,2037564 kB,345384 kB,1296360 kB,0 kB,998396 kB,998396 kB\n",
      "1669312921,2037564 kB,703756 kB,1376980 kB,0 kB,998396 kB,998396 kB\n",
      "1669312981,2037564 kB,704228 kB,1377484 kB,0 kB,998396 kB,998396 kB\n",
      "1669313041,2037564 kB,704180 kB,1377508 kB,0 kB,998396 kB,998396 kB\n",
      "1669313101,2037564 kB,681576 kB,1354960 kB,0 kB,998396 kB,998396 kB\n",
      "1669313161,2037564 kB,643184 kB,1316576 kB,0 kB,998396 kB,998396 kB\n",
      "1669313221,2037564 kB,671056 kB,1340372 kB,0 kB,998396 kB,998396 kB\n",
      "1669313281,2037564 kB,632892 kB,1302216 kB,0 kB,998396 kB,998396 kB\n",
      "1669313341,2037564 kB,556460 kB,1225824 kB,0 kB,998396 kB,998396 kB\n",
      "1669313401,2037564 kB,1001136 kB,1092116 kB,336 kB,998396 kB,987316 kB\n",
      "1669313464,2037564 kB,56336 kB,0 kB,3712 kB,998396 kB,0 kB\n",
      "1669313521,2037564 kB,1525900 kB,1488312 kB,14148 kB,998396 kB,318332 kB\n",
      "1669313581,2037564 kB,1768964 kB,1739644 kB,37540 kB,998396 kB,639996 kB\n",
      "1669313641,2037564 kB,1753120 kB,1729232 kB,39992 kB,998396 kB,642044 kB\n",
      "1669313701,2037564 kB,1751876 kB,1728084 kB,40552 kB,998396 kB,642044 kB\n",
      "1669313761,2037564 kB,1711572 kB,1691772 kB,55668 kB,998396 kB,652028 kB\n",
      "1669313821,2037564 kB,1708020 kB,1689328 kB,56268 kB,998396 kB,652028 kB\n",
      "1669313881,2037564 kB,1708004 kB,1689332 kB,56292 kB,998396 kB,652028 kB\n",
      "1669313941,2037564 kB,1708060 kB,1689384 kB,56316 kB,998396 kB,652284 kB\n",
      "1669314001,2037564 kB,1707808 kB,1689136 kB,56348 kB,998396 kB,652284 kB\n",
      "1669314061,2037564 kB,1705800 kB,1687412 kB,56896 kB,998396 kB,652284 kB\n",
      "1669314121,2037564 kB,1703500 kB,1685348 kB,57332 kB,998396 kB,652540 kB\n",
      "1669314181,2037564 kB,1703208 kB,1685068 kB,57444 kB,998396 kB,652540 kB\n",
      "\n"
     ]
    }
   ],
   "source": [
    "class data_handler(data_handler):\n",
    "    def get_raw_data_in_string(self) -> str:\n",
    "            \"\"\"! Renvoie les données brutes du fichier csv en format string\n",
    "            \n",
    "            @return  les données du fichier en dur\n",
    "            \"\"\"\n",
    "            return self.raw\n",
    "\n",
    "myData = data_handler(\"../data.csv\")\n",
    "print(myData.get_raw_data_in_string())"
   ]
  },
  {
   "cell_type": "code",
   "execution_count": 4,
   "metadata": {},
   "outputs": [
    {
     "name": "stdout",
     "output_type": "stream",
     "text": [
      "[['1669311481', '2037564 kB', '359272 kB', '1392400 kB', '0 kB', '998396 kB', '998396 kB'], ['1669311541', '2037564 kB', '346364 kB', '1380152 kB', '0 kB', '998396 kB', '998396 kB'], ['1669311601', '2037564 kB', '345064 kB', '1378880 kB', '0 kB', '998396 kB', '998396 kB'], ['1669311661', '2037564 kB', '344756 kB', '1378588 kB', '0 kB', '998396 kB', '998396 kB'], ['1669311721', '2037564 kB', '336212 kB', '1379652 kB', '0 kB', '998396 kB', '998396 kB'], ['1669311781', '2037564 kB', '337700 kB', '1381192 kB', '0 kB', '998396 kB', '998396 kB'], ['1669311841', '2037564 kB', '338464 kB', '1381980 kB', '0 kB', '998396 kB', '998396 kB'], ['1669311901', '2037564 kB', '328656 kB', '1372184 kB', '0 kB', '998396 kB', '998396 kB'], ['1669311961', '2037564 kB', '327840 kB', '1371396 kB', '0 kB', '998396 kB', '998396 kB'], ['1669312021', '2037564 kB', '326372 kB', '1369992 kB', '0 kB', '998396 kB', '998396 kB'], ['1669312081', '2037564 kB', '323392 kB', '1367020 kB', '0 kB', '998396 kB', '998396 kB'], ['1669312141', '2037564 kB', '317836 kB', '1361504 kB', '0 kB', '998396 kB', '998396 kB'], ['1669312201', '2037564 kB', '328360 kB', '1372816 kB', '0 kB', '998396 kB', '998396 kB'], ['1669312261', '2037564 kB', '327672 kB', '1372184 kB', '0 kB', '998396 kB', '998396 kB'], ['1669312321', '2037564 kB', '327372 kB', '1371912 kB', '0 kB', '998396 kB', '998396 kB'], ['1669312381', '2037564 kB', '326592 kB', '1371140 kB', '0 kB', '998396 kB', '998396 kB'], ['1669312441', '2037564 kB', '325316 kB', '1369872 kB', '0 kB', '998396 kB', '998396 kB'], ['1669312501', '2037564 kB', '323332 kB', '1367896 kB', '0 kB', '998396 kB', '998396 kB'], ['1669312561', '2037564 kB', '318732 kB', '1363312 kB', '0 kB', '998396 kB', '998396 kB'], ['1669312621', '2037564 kB', '310052 kB', '1354688 kB', '0 kB', '998396 kB', '998396 kB'], ['1669312681', '2037564 kB', '293416 kB', '1338068 kB', '0 kB', '998396 kB', '998396 kB'], ['1669312741', '2037564 kB', '258184 kB', '1302844 kB', '0 kB', '998396 kB', '998396 kB'], ['1669312801', '2037564 kB', '287224 kB', '1331892 kB', '0 kB', '998396 kB', '998396 kB'], ['1669312861', '2037564 kB', '345384 kB', '1296360 kB', '0 kB', '998396 kB', '998396 kB'], ['1669312921', '2037564 kB', '703756 kB', '1376980 kB', '0 kB', '998396 kB', '998396 kB'], ['1669312981', '2037564 kB', '704228 kB', '1377484 kB', '0 kB', '998396 kB', '998396 kB'], ['1669313041', '2037564 kB', '704180 kB', '1377508 kB', '0 kB', '998396 kB', '998396 kB'], ['1669313101', '2037564 kB', '681576 kB', '1354960 kB', '0 kB', '998396 kB', '998396 kB'], ['1669313161', '2037564 kB', '643184 kB', '1316576 kB', '0 kB', '998396 kB', '998396 kB'], ['1669313221', '2037564 kB', '671056 kB', '1340372 kB', '0 kB', '998396 kB', '998396 kB'], ['1669313281', '2037564 kB', '632892 kB', '1302216 kB', '0 kB', '998396 kB', '998396 kB'], ['1669313341', '2037564 kB', '556460 kB', '1225824 kB', '0 kB', '998396 kB', '998396 kB'], ['1669313401', '2037564 kB', '1001136 kB', '1092116 kB', '336 kB', '998396 kB', '987316 kB'], ['1669313464', '2037564 kB', '56336 kB', '0 kB', '3712 kB', '998396 kB', '0 kB'], ['1669313521', '2037564 kB', '1525900 kB', '1488312 kB', '14148 kB', '998396 kB', '318332 kB'], ['1669313581', '2037564 kB', '1768964 kB', '1739644 kB', '37540 kB', '998396 kB', '639996 kB'], ['1669313641', '2037564 kB', '1753120 kB', '1729232 kB', '39992 kB', '998396 kB', '642044 kB'], ['1669313701', '2037564 kB', '1751876 kB', '1728084 kB', '40552 kB', '998396 kB', '642044 kB'], ['1669313761', '2037564 kB', '1711572 kB', '1691772 kB', '55668 kB', '998396 kB', '652028 kB'], ['1669313821', '2037564 kB', '1708020 kB', '1689328 kB', '56268 kB', '998396 kB', '652028 kB'], ['1669313881', '2037564 kB', '1708004 kB', '1689332 kB', '56292 kB', '998396 kB', '652028 kB'], ['1669313941', '2037564 kB', '1708060 kB', '1689384 kB', '56316 kB', '998396 kB', '652284 kB'], ['1669314001', '2037564 kB', '1707808 kB', '1689136 kB', '56348 kB', '998396 kB', '652284 kB'], ['1669314061', '2037564 kB', '1705800 kB', '1687412 kB', '56896 kB', '998396 kB', '652284 kB'], ['1669314121', '2037564 kB', '1703500 kB', '1685348 kB', '57332 kB', '998396 kB', '652540 kB'], ['1669314181', '2037564 kB', '1703208 kB', '1685068 kB', '57444 kB', '998396 kB', '652540 kB']]\n"
     ]
    }
   ],
   "source": [
    "class data_handler(data_handler):\n",
    "    def get_data_in_list(self, first_line:bool=False) -> List[List[str]]:\n",
    "        \"\"\"! Renvoie une liste a 2 dimensions qui contient les differentes donnees en string\n",
    "        \n",
    "        Exemple pour le fihier csv\n",
    "        a, b, c\n",
    "        d, e, f\n",
    "        g, h, i\n",
    "        \n",
    "        >> [[a, b, c], [d, e, f], [g, h, i]]\n",
    "        \n",
    "        @param first_line  si first_line est a False alors la premier ligne n'est pas prise en compte\n",
    "\n",
    "        @return  la liste de liste représentant les donées\n",
    "        \"\"\"\n",
    "        return self.lines[1:] if not first_line else self.line\n",
    "\n",
    "myData = data_handler(\"../data.csv\")\n",
    "print(myData.get_data_in_list())    "
   ]
  },
  {
   "cell_type": "code",
   "execution_count": 14,
   "metadata": {},
   "outputs": [
    {
     "name": "stdout",
     "output_type": "stream",
     "text": [
      "[[1669311481, 2037564, 359272, 1392400, 0, 998396, 998396], [1669311541, 2037564, 346364, 1380152, 0, 998396, 998396], [1669311601, 2037564, 345064, 1378880, 0, 998396, 998396], [1669311661, 2037564, 344756, 1378588, 0, 998396, 998396], [1669311721, 2037564, 336212, 1379652, 0, 998396, 998396], [1669311781, 2037564, 337700, 1381192, 0, 998396, 998396], [1669311841, 2037564, 338464, 1381980, 0, 998396, 998396], [1669311901, 2037564, 328656, 1372184, 0, 998396, 998396], [1669311961, 2037564, 327840, 1371396, 0, 998396, 998396], [1669312021, 2037564, 326372, 1369992, 0, 998396, 998396], [1669312081, 2037564, 323392, 1367020, 0, 998396, 998396], [1669312141, 2037564, 317836, 1361504, 0, 998396, 998396], [1669312201, 2037564, 328360, 1372816, 0, 998396, 998396], [1669312261, 2037564, 327672, 1372184, 0, 998396, 998396], [1669312321, 2037564, 327372, 1371912, 0, 998396, 998396], [1669312381, 2037564, 326592, 1371140, 0, 998396, 998396], [1669312441, 2037564, 325316, 1369872, 0, 998396, 998396], [1669312501, 2037564, 323332, 1367896, 0, 998396, 998396], [1669312561, 2037564, 318732, 1363312, 0, 998396, 998396], [1669312621, 2037564, 310052, 1354688, 0, 998396, 998396], [1669312681, 2037564, 293416, 1338068, 0, 998396, 998396], [1669312741, 2037564, 258184, 1302844, 0, 998396, 998396], [1669312801, 2037564, 287224, 1331892, 0, 998396, 998396], [1669312861, 2037564, 345384, 1296360, 0, 998396, 998396], [1669312921, 2037564, 703756, 1376980, 0, 998396, 998396], [1669312981, 2037564, 704228, 1377484, 0, 998396, 998396], [1669313041, 2037564, 704180, 1377508, 0, 998396, 998396], [1669313101, 2037564, 681576, 1354960, 0, 998396, 998396], [1669313161, 2037564, 643184, 1316576, 0, 998396, 998396], [1669313221, 2037564, 671056, 1340372, 0, 998396, 998396], [1669313281, 2037564, 632892, 1302216, 0, 998396, 998396], [1669313341, 2037564, 556460, 1225824, 0, 998396, 998396], [1669313401, 2037564, 1001136, 1092116, 336, 998396, 987316], [1669313464, 2037564, 56336, 0, 3712, 998396, 0], [1669313521, 2037564, 1525900, 1488312, 14148, 998396, 318332], [1669313581, 2037564, 1768964, 1739644, 37540, 998396, 639996], [1669313641, 2037564, 1753120, 1729232, 39992, 998396, 642044], [1669313701, 2037564, 1751876, 1728084, 40552, 998396, 642044], [1669313761, 2037564, 1711572, 1691772, 55668, 998396, 652028], [1669313821, 2037564, 1708020, 1689328, 56268, 998396, 652028], [1669313881, 2037564, 1708004, 1689332, 56292, 998396, 652028], [1669313941, 2037564, 1708060, 1689384, 56316, 998396, 652284], [1669314001, 2037564, 1707808, 1689136, 56348, 998396, 652284], [1669314061, 2037564, 1705800, 1687412, 56896, 998396, 652284], [1669314121, 2037564, 1703500, 1685348, 57332, 998396, 652540], [1669314181, 2037564, 1703208, 1685068, 57444, 998396, 652540]]\n"
     ]
    }
   ],
   "source": [
    "class data_handler(data_handler):\n",
    "    def get_data_in_list_of_numbers(self) -> List[List[int]]:\n",
    "        \"\"\"! Enlève les unitées si il y en a (comme get_data_in_list() mais sans unitées)\n",
    "        \n",
    "        @return  la liste de liste contenant les données\n",
    "        \"\"\"\n",
    "        \n",
    "        numbers : List[int] = [\"0\", \"1\", \"2\", \"3\", \"4\", \"5\", \"6\", \"7\", \"8\", \"9\"]\n",
    "        number : str = \"\"\n",
    "        data : List[List[str]] = self.get_data_in_list()\n",
    "        newList : List[List[int]] = []\n",
    "        \n",
    "        for line in range(len(data)):\n",
    "            newList.append([])\n",
    "            for element in range(len(data[line])):\n",
    "                number = \"\"\n",
    "                for char in range(len(data[line][element])):\n",
    "                    if data[line][element][char] in numbers:\n",
    "                        number += data[line][element][char]\n",
    "                newList[-1].append(int(number))\n",
    "        \n",
    "        return newList\n",
    "\n",
    "myData = data_handler(\"../data.csv\")\n",
    "print(myData.get_data_in_list_of_numbers())"
   ]
  },
  {
   "cell_type": "code",
   "execution_count": 15,
   "metadata": {},
   "outputs": [
    {
     "name": "stdout",
     "output_type": "stream",
     "text": [
      "60.0\n"
     ]
    }
   ],
   "source": [
    "class data_handler(data_handler):\n",
    "    def average_diff(self, column:int=0) -> float:\n",
    "        \"\"\"! Calcule la différence moyenne dans une colonne (par défaut la première colonne)\n",
    "\n",
    "        @param column  La colonne sur la quelle il faut réaliser l'oppération\n",
    "        \n",
    "        @return  La différence moyenne\n",
    "        \"\"\"\n",
    "        \n",
    "        data = self.get_data_in_list()\n",
    "        average_time : int = 0\n",
    "        \n",
    "        for i in range(1, len(data)):\n",
    "            average_time += int(data[i][column]) - int(data[i-1][column])\n",
    "        \n",
    "        return average_time / (len(data) - 1)\n",
    "\n",
    "myData = data_handler(\"../data.csv\")\n",
    "print(myData.average_diff())"
   ]
  },
  {
   "cell_type": "code",
   "execution_count": 16,
   "metadata": {},
   "outputs": [
    {
     "name": "stdout",
     "output_type": "stream",
     "text": [
      "752482.6086956522\n"
     ]
    }
   ],
   "source": [
    "class data_handler(data_handler):\n",
    "    def average(self, column:int) -> float:\n",
    "        \"\"\"! Calcule la moyenne d'une colonne\n",
    "\n",
    "        @param column  indice de la colonne\n",
    "\n",
    "        @return  moyenne de la colonne\n",
    "        \"\"\"\n",
    "        \n",
    "        # donnees sans unitées\n",
    "        data = self.get_data_in_list_of_numbers()\n",
    "        average : int = 0\n",
    "        \n",
    "        for line in range(len(data)):\n",
    "            average += data[line][column]\n",
    "        \n",
    "        return average / len(data)\n",
    "\n",
    "myData = data_handler(\"../data.csv\")\n",
    "print(myData.average(2))"
   ]
  },
  {
   "cell_type": "code",
   "execution_count": 17,
   "metadata": {},
   "outputs": [
    {
     "name": "stdout",
     "output_type": "stream",
     "text": [
      "MemFree\n"
     ]
    }
   ],
   "source": [
    "class data_handler(data_handler):\n",
    "    def get_name(self, column:int) -> str:\n",
    "        \"\"\"! Renvoie le nom d'une colonne\n",
    "\n",
    "        @param column  indice de la colonne\n",
    "\n",
    "        @return  nom de la colonne\n",
    "        \"\"\"\n",
    "        \n",
    "        return self.lines[0][column]\n",
    "\n",
    "myData = data_handler(\"../data.csv\")\n",
    "print(myData.get_name(2))"
   ]
  },
  {
   "cell_type": "code",
   "execution_count": 18,
   "metadata": {},
   "outputs": [
    {
     "name": "stdout",
     "output_type": "stream",
     "text": [
      "[359272, 346364, 345064, 344756, 336212, 337700, 338464, 328656, 327840, 326372, 323392, 317836, 328360, 327672, 327372, 326592, 325316, 323332, 318732, 310052, 293416, 258184, 287224, 345384, 703756, 704228, 704180, 681576, 643184, 671056, 632892, 556460, 1001136, 56336, 1525900, 1768964, 1753120, 1751876, 1711572, 1708020, 1708004, 1708060, 1707808, 1705800, 1703500, 1703208]\n"
     ]
    }
   ],
   "source": [
    "class data_handler(data_handler):\n",
    "    def get_column(self, column:int) -> List[int]:\n",
    "        \"\"\"! Renvoie la colonne en parametre sous forme de liste\n",
    "\n",
    "        @param column  indice de la colonnne\n",
    "\n",
    "        @return  Liste contenant les valeurs de la colonne\n",
    "        \"\"\"\n",
    "        \n",
    "        data = self.get_data_in_list_of_numbers()\n",
    "        \n",
    "        result : List[int] = []\n",
    "        \n",
    "        for line in range(len(data)):\n",
    "            result.append(data[line][column])\n",
    "        \n",
    "        return result\n",
    "\n",
    "myData = data_handler(\"../data.csv\")\n",
    "print(myData.get_column(2))"
   ]
  },
  {
   "cell_type": "code",
   "execution_count": 19,
   "metadata": {},
   "outputs": [
    {
     "name": "stdout",
     "output_type": "stream",
     "text": [
      "(1669311481, 1669314181)\n"
     ]
    }
   ],
   "source": [
    "class data_handler(data_handler):\n",
    "    def min_max(self, column:int) -> Tuple[float, float]:\n",
    "        \"\"\"! Renvoie le couple max, min d'une colonne donnée\n",
    "\n",
    "        @param column  La colonne en question.\n",
    "\n",
    "        @return  Le couple max, min\n",
    "        \"\"\"\n",
    "        data = self.get_data_in_list_of_numbers()\n",
    "        max, min = data[column][0], data[column][0]\n",
    "        \n",
    "        for i in range(1, len(data)):\n",
    "            if data[i][column] > max:\n",
    "                max = data[i][column]\n",
    "                \n",
    "            if data[i][column] < min:\n",
    "                min = data[i][column]\n",
    "        \n",
    "        return min, max\n",
    "\n",
    "myData = data_handler(\"../data.csv\")\n",
    "print(myData.min_max(0))"
   ]
  },
  {
   "cell_type": "code",
   "execution_count": 20,
   "metadata": {},
   "outputs": [
    {
     "name": "stdout",
     "output_type": "stream",
     "text": [
      "{1669311481: [1669311481, 2037564, 359272, 1392400, 0, 998396, 998396], 1669311541: [1669311541, 2037564, 346364, 1380152, 0, 998396, 998396], 1669311601: [1669311601, 2037564, 345064, 1378880, 0, 998396, 998396], 1669311661: [1669311661, 2037564, 344756, 1378588, 0, 998396, 998396], 1669311721: [1669311721, 2037564, 336212, 1379652, 0, 998396, 998396], 1669311781: [1669311781, 2037564, 337700, 1381192, 0, 998396, 998396], 1669311841: [1669311841, 2037564, 338464, 1381980, 0, 998396, 998396], 1669311901: [1669311901, 2037564, 328656, 1372184, 0, 998396, 998396], 1669311961: [1669311961, 2037564, 327840, 1371396, 0, 998396, 998396], 1669312021: [1669312021, 2037564, 326372, 1369992, 0, 998396, 998396], 1669312081: [1669312081, 2037564, 323392, 1367020, 0, 998396, 998396], 1669312141: [1669312141, 2037564, 317836, 1361504, 0, 998396, 998396], 1669312201: [1669312201, 2037564, 328360, 1372816, 0, 998396, 998396], 1669312261: [1669312261, 2037564, 327672, 1372184, 0, 998396, 998396], 1669312321: [1669312321, 2037564, 327372, 1371912, 0, 998396, 998396], 1669312381: [1669312381, 2037564, 326592, 1371140, 0, 998396, 998396], 1669312441: [1669312441, 2037564, 325316, 1369872, 0, 998396, 998396], 1669312501: [1669312501, 2037564, 323332, 1367896, 0, 998396, 998396], 1669312561: [1669312561, 2037564, 318732, 1363312, 0, 998396, 998396], 1669312621: [1669312621, 2037564, 310052, 1354688, 0, 998396, 998396], 1669312681: [1669312681, 2037564, 293416, 1338068, 0, 998396, 998396], 1669312741: [1669312741, 2037564, 258184, 1302844, 0, 998396, 998396], 1669312801: [1669312801, 2037564, 287224, 1331892, 0, 998396, 998396], 1669312861: [1669312861, 2037564, 345384, 1296360, 0, 998396, 998396], 1669312921: [1669312921, 2037564, 703756, 1376980, 0, 998396, 998396], 1669312981: [1669312981, 2037564, 704228, 1377484, 0, 998396, 998396], 1669313041: [1669313041, 2037564, 704180, 1377508, 0, 998396, 998396], 1669313101: [1669313101, 2037564, 681576, 1354960, 0, 998396, 998396], 1669313161: [1669313161, 2037564, 643184, 1316576, 0, 998396, 998396], 1669313221: [1669313221, 2037564, 671056, 1340372, 0, 998396, 998396], 1669313281: [1669313281, 2037564, 632892, 1302216, 0, 998396, 998396], 1669313341: [1669313341, 2037564, 556460, 1225824, 0, 998396, 998396], 1669313401: [1669313401, 2037564, 1001136, 1092116, 336, 998396, 987316], 1669313464: [1669313464, 2037564, 56336, 0, 3712, 998396, 0], 1669313521: [1669313521, 2037564, 1525900, 1488312, 14148, 998396, 318332], 1669313581: [1669313581, 2037564, 1768964, 1739644, 37540, 998396, 639996], 1669313641: [1669313641, 2037564, 1753120, 1729232, 39992, 998396, 642044], 1669313701: [1669313701, 2037564, 1751876, 1728084, 40552, 998396, 642044], 1669313761: [1669313761, 2037564, 1711572, 1691772, 55668, 998396, 652028], 1669313821: [1669313821, 2037564, 1708020, 1689328, 56268, 998396, 652028], 1669313881: [1669313881, 2037564, 1708004, 1689332, 56292, 998396, 652028], 1669313941: [1669313941, 2037564, 1708060, 1689384, 56316, 998396, 652284], 1669314001: [1669314001, 2037564, 1707808, 1689136, 56348, 998396, 652284], 1669314061: [1669314061, 2037564, 1705800, 1687412, 56896, 998396, 652284], 1669314121: [1669314121, 2037564, 1703500, 1685348, 57332, 998396, 652540], 1669314181: [1669314181, 2037564, 1703208, 1685068, 57444, 998396, 652540]}\n"
     ]
    }
   ],
   "source": [
    "class data_handler(data_handler):\n",
    "    def get_data_in_dict(self, column) -> dict:\n",
    "        \"\"\"! Récuperer les données sous la forme d'un dictionnaire avec la colonne en paramètre comme clés\n",
    "        \n",
    "        @param column  indice de la colonne clés\n",
    "        \n",
    "        @return  dictionnaire avec les données\n",
    "        \"\"\"\n",
    "        \n",
    "        \n",
    "        data : List[List[int]] = self.get_data_in_list_of_numbers()\n",
    "        \n",
    "        dictionnaire : dict = {}\n",
    "        \n",
    "        for i in range(len(data)):\n",
    "            dictionnaire[data[i][column]] = data[i]\n",
    "            \n",
    "        return dictionnaire\n",
    "\n",
    "myData = data_handler(\"../data.csv\")\n",
    "print(myData.get_data_in_dict(0))"
   ]
  },
  {
   "cell_type": "code",
   "execution_count": 21,
   "metadata": {},
   "outputs": [
    {
     "name": "stdout",
     "output_type": "stream",
     "text": [
      "1669313581\n"
     ]
    }
   ],
   "source": [
    "class data_handler(data_handler):\n",
    "    def get_max_by_refernce(self, column_ref, column_aim) -> int:\n",
    "        \"\"\"!Renvoi la valeur de la colonne column_ref pour la valeur max de column_aim\n",
    "        \n",
    "        @param column_ref  colonne qui contient la valeur qui va etre renvoyée\n",
    "        @param column_aim  colonne qui contient les valeurs de référence (c'est ici que le max va etre recherché)\n",
    "\n",
    "        @return  la valeur trouvé\n",
    "        \"\"\"\n",
    "        \n",
    "        data : dict = self.get_data_in_dict(column_ref)\n",
    "        \n",
    "        max = (list(data.keys())[0], data[list(data.keys())[0]][column_aim])\n",
    "        \n",
    "        for key,values in data.items():\n",
    "            \n",
    "            if max[1] < values[column_aim]:\n",
    "                max = (key, values[column_aim])\n",
    "                \n",
    "        return max[0]\n",
    "\n",
    "myData = data_handler(\"../data.csv\")\n",
    "print(myData.get_max_by_refernce(0, 3))"
   ]
  },
  {
   "attachments": {},
   "cell_type": "markdown",
   "metadata": {},
   "source": [
    "Maintenant que les fonctions pour traiter les données ont été créées, il reste a les utiliser avec matplotlib\n",
    "\n",
    "### Affichage des graphs"
   ]
  },
  {
   "cell_type": "code",
   "execution_count": 23,
   "metadata": {},
   "outputs": [
    {
     "data": {
      "image/png": "[encoded data removed]",
      "text/plain": [
       "<Figure size 432x288 with 4 Axes>"
      ]
     },
     "metadata": {
      "needs_background": "light"
     },
     "output_type": "display_data"
    }
   ],
   "source": [
    "import matplotlib.pyplot as plt\n",
    "\n",
    "myData = data_handler(\"../data.csv\")\n",
    "fig, ax = plt.subplots(2, 2)\n",
    "\n",
    "\n",
    "#################### graphe en 2,1 (comparaison swap et mem)\n",
    "\n",
    "y1 = myData.get_column(3)\n",
    "y2 = myData.get_column(6)\n",
    "x = [i for i in range(1, len(y1) + 1)]\n",
    "\n",
    "for i in range(len(y1)):\n",
    "    y1[i] = y1[i]/10**6\n",
    "    y2[i] = y2[i]/10**6\n",
    "\n",
    "ax[1, 0].plot(x, y1, 'r-', label=\"Memoire disponible\")\n",
    "ax[1, 0].plot(x, y2, 'b-', label=\"Swap disponible\")\n",
    "\n",
    "\n",
    "ax[1, 0].set_title(\"Evolution de la mémoire libre\")\n",
    "ax[1, 0].set_xlabel(\"Temps (min)\")\n",
    "ax[1, 0].set_ylabel(\"Memoire (Gb)\")\n",
    "ax[1, 0].legend()\n",
    "\n",
    "\n",
    "############### graphe en 1, 1 (pourcentage d'utilisation de la mémoire)\n",
    "\n",
    "y_mem = myData.get_column(3) # memoire disponible\n",
    "x = [i for i in range(len(y_mem))]\n",
    "\n",
    "mem_totale = myData.get_column(1)[0] # memoire totale\n",
    "\n",
    "ligne_nulle = [0] * len(y_mem)\n",
    "\n",
    "pourcentage = [round((mem_totale - y_mem[i]) / mem_totale, 5)*100 for i in range(len(y_mem))] # pourcentage de memoire utilisee\n",
    "\n",
    "\n",
    "ax[0, 0].fill_between(x, ligne_nulle, pourcentage, color=\"#d487eba0\")\n",
    "\n",
    "ax[0, 0].set_title(\"Pourcentage de mémoire \\n utilisée\")\n",
    "ax[0, 0].set_xlabel(\"Temps (min)\")\n",
    "ax[0, 0].set_ylabel(\"Mémoire utilisée (%)\")\n",
    "\n",
    "######################### graph en 1,2 (pourcentage d'utilisation de la meme Swap)\n",
    "\n",
    "y_mem = myData.get_column(6) # memoire swap disponible\n",
    "x = [i for i in range(len(y_mem))]\n",
    "\n",
    "mem_totale = myData.get_column(5)[0] # memoire swap totale\n",
    "\n",
    "ligne_nulle = [0] * len(y_mem)\n",
    "\n",
    "pourcentage = [round((mem_totale - y_mem[i]) / mem_totale, 5)*100 for i in range(len(y_mem))] # pourcentage de memoire utilisée\n",
    "\n",
    "\n",
    "ax[0, 1].fill_between(x, ligne_nulle, pourcentage, color=\"#64cfd1a0\")\n",
    "\n",
    "ax[0, 1].set_title(\"Pourcentage de mémoire \\n Swap utilisée\")\n",
    "ax[0, 1].set_xlabel(\"Temps (min)\")\n",
    "ax[0, 1].set_ylabel(\"Mémoire Swap utilisée (%)\")\n",
    "\n",
    "################### camembert memoire moyenne et libre\n",
    "\n",
    "mem_total = myData.get_column(1)[0]\n",
    "average_mem_free = (myData.average(2) / mem_total) * 100\n",
    "average_mem_available = (myData.average(3) / mem_total) * 100\n",
    "\n",
    "values = [average_mem_free, average_mem_available - average_mem_free, 100 - average_mem_available]\n",
    "labels = [\"Libre\", \"Utilisable\", \"Utilisée\"]\n",
    "\n",
    "ax[1, 1].pie(values, labels=labels, autopct='%1.1f%%')\n",
    "\n",
    "############## affichage des valeurs\n",
    "\n",
    "to_print = f\"Mémoire moyenne utilisée : {round(myData.average(1)/10**6 - myData.average(3)/10**6, 3)}/{round(myData.average(1)/10**6, 3)}Gb\\n\"\n",
    "to_print += f\"Utilisation max de mémoire à {(myData.get_max_by_refernce(0, 3) - myData.get_column(0)[0])/60}s\"\n",
    "fig.supxlabel(to_print)\n",
    "\n",
    "plt.tight_layout()\n",
    "plt.show()"
   ]
  }
 ],
 "metadata": {
  "kernelspec": {
   "display_name": "Python 3",
   "language": "python",
   "name": "python3"
  },
  "language_info": {
   "codemirror_mode": {
    "name": "ipython",
    "version": 3
   },
   "file_extension": ".py",
   "mimetype": "text/x-python",
   "name": "python",
   "nbconvert_exporter": "python",
   "pygments_lexer": "ipython3",
   "version": "3.8.2"
  },
  "orig_nbformat": 4,
  "vscode": {
   "interpreter": {
    "hash": "bf4c452b4f1fffd1af4198b46f8f1e4f9c00181ac866a7a1d545c61a82950ba5"
   }
  }
 },
 "nbformat": 4,
 "nbformat_minor": 2
}
